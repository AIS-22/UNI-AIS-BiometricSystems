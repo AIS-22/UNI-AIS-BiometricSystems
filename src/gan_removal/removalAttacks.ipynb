{
 "cells": [
  {
   "cell_type": "code",
   "execution_count": null,
   "outputs": [],
   "source": [
    "import os\n",
    "\n",
    "import cv2\n",
    "import numpy as np\n",
    "\n",
    "\n",
    "def print_comparison(image, dct_coeffs, reconstructed_image):\n",
    "    dct_orig = np.log(np.abs(cv2.dct(np.float32(image))) + 1)\n",
    "    dct_mod = np.log(np.abs(dct_coeffs) + 1)\n",
    "\n",
    "    plt.figure(figsize=(16, 8))\n",
    "    plt.subplot(2, 2, 1)\n",
    "    plt.imshow(image, cmap='gray')\n",
    "    plt.title('Original Image')\n",
    "    \n",
    "    plt.subplot(2, 2, 2)\n",
    "    plt.imshow(dct_orig, cmap='hot')\n",
    "    plt.title('DCT original')\n",
    "    plt.colorbar()\n",
    "    \n",
    "    \n",
    "    plt.subplot(2, 2, 3)\n",
    "    plt.imshow(reconstructed_image, cmap='gray')\n",
    "    plt.title('Reconstructed Image')\n",
    "    \n",
    "    plt.subplot(2, 2, 4)\n",
    "    plt.imshow(dct_mod, cmap='hot')\n",
    "    plt.title('DCT GAN fingerprint')\n",
    "    plt.colorbar()\n",
    "    \n",
    "    plt.show()"
   ],
   "metadata": {
    "collapsed": false
   },
   "id": "834e6beb7dd0977d"
  },
  {
   "cell_type": "markdown",
   "source": [
    "## Frequency Bars Attack"
   ],
   "metadata": {
    "collapsed": false
   },
   "id": "b9a453b21dde973d"
  },
  {
   "cell_type": "code",
   "execution_count": null,
   "outputs": [],
   "source": [
    "image = cv2.imread('../../data/PLUS/train/genuine/001-PLUS-FV3-Laser_PALMAR_001_01_02_01.png', cv2.IMREAD_GRAYSCALE)\n",
    "\n",
    "\n",
    "###### Start ATTACK ######\n",
    "# Apply 2D DCT\n",
    "dct_result = cv2.dct(np.float32(image))\n",
    "#set the last s rows and columns to zero\n",
    "s=60\n",
    "dct_result[-s:,:] = 0\n",
    "dct_result[:,-s:] = 0\n",
    "reconstructed_image = cv2.idct(dct_result)\n",
    "###### End ATTACK ######\n",
    "\n",
    "print_comparison(image, dct_result, reconstructed_image)"
   ],
   "metadata": {
    "collapsed": false
   },
   "id": "e8c2ea4031a953a6"
  },
  {
   "cell_type": "markdown",
   "source": [
    "## Mean Spectrum Attack"
   ],
   "metadata": {
    "collapsed": false
   },
   "id": "71350c0235742fa9"
  },
  {
   "cell_type": "code",
   "execution_count": null,
   "outputs": [],
   "source": [
    "# read filenames in a specified directory\n",
    "import glob\n",
    "import cv2\n",
    "import numpy as np\n",
    "import matplotlib.pyplot as plt\n",
    "\n",
    "filenames_genuine = glob.glob('../../data/PLUS/train/genuine/*.png')\n",
    "filenames_cycle003 = glob.glob('../../data/PLUS/train/spoofed_synthethic_cyclegan_003/*.png')\n",
    "\n",
    "#create mean of dct coeffiecents of filenames_genuine\n",
    "mean_dct_genuine = np.zeros(cv2.imread(filenames_genuine[0], cv2.IMREAD_GRAYSCALE).shape)\n",
    "for filename in filenames_genuine:\n",
    "    image = cv2.imread(filename, cv2.IMREAD_GRAYSCALE)\n",
    "    mean_dct_genuine += cv2.dct(np.float32(image))\n",
    "    \n",
    "mean_dct_genuine /= len(filenames_genuine)\n",
    "\n",
    "#create mean of dct coeffiecents of filenames_cycle003\n",
    "mean_dct_cycle003 = np.zeros(cv2.imread(filenames_cycle003[0], cv2.IMREAD_GRAYSCALE).shape)\n",
    "for filename in filenames_cycle003:\n",
    "    image = cv2.imread(filename, cv2.IMREAD_GRAYSCALE)\n",
    "    mean_dct_cycle003 += cv2.dct(np.float32(image))\n",
    "    \n",
    "mean_dct_cycle003 /= len(filenames_cycle003)\n",
    "\n",
    "# Needs to be repeated for each gan class and applied on corresponding val images!!!!\n",
    "F_m = mean_dct_cycle003 - mean_dct_genuine\n",
    "\n",
    "\n",
    "###### Start ATTACK ######\n",
    "s=0.5\n",
    "filenames_cycle003_val = glob.glob('../../data/PLUS/val/spoofed_synthethic_cyclegan_003/*.png')\n",
    "for filename in filenames_cycle003_val[:1]:\n",
    "    image = cv2.imread(filename, cv2.IMREAD_GRAYSCALE)\n",
    "    dct_result = cv2.dct(np.float32(image))\n",
    "    modified_coeffs = dct_result - (s*F_m)\n",
    "    #store the new image in removal folder\n",
    "    reconstructed_image = cv2.idct(modified_coeffs)\n",
    "    print_comparison(image, F_m, reconstructed_image)\n",
    "###### End ATTACK ######\n"
   ],
   "metadata": {
    "collapsed": false
   },
   "id": "9ed8ca3b4b066358"
  },
  {
   "cell_type": "markdown",
   "source": [
    "## Frequency Peaks Attack"
   ],
   "metadata": {
    "collapsed": false
   },
   "id": "c8383932c2461371"
  },
  {
   "cell_type": "code",
   "execution_count": null,
   "outputs": [],
   "source": [
    "# read filenames in a specified directory\n",
    "import glob\n",
    "import cv2\n",
    "import numpy as np\n",
    "import matplotlib.pyplot as plt\n",
    "\n",
    "filenames_genuine = glob.glob('../../data/PLUS/train/genuine/*.png')\n",
    "filenames_cycle003 = glob.glob('../../data/PLUS/train/spoofed_synthethic_drit_004/*.png')\n",
    "\n",
    "#create mean of dct coeffiecents of filenames_genuine\n",
    "mean_dct_genuine = np.zeros(cv2.imread(filenames_genuine[0], cv2.IMREAD_GRAYSCALE).shape)\n",
    "for filename in filenames_genuine:\n",
    "    image = cv2.imread(filename, cv2.IMREAD_GRAYSCALE)\n",
    "    mean_dct_genuine += np.log(np.abs(cv2.dct(np.float32(image))))\n",
    "    \n",
    "mean_dct_genuine /= len(filenames_genuine)\n",
    "\n",
    "#create mean of dct coeffiecents of filenames_cycle003\n",
    "mean_dct_cycle003 = np.zeros(cv2.imread(filenames_cycle003[0], cv2.IMREAD_GRAYSCALE).shape)\n",
    "for filename in filenames_cycle003:\n",
    "    image = cv2.imread(filename, cv2.IMREAD_GRAYSCALE)\n",
    "    mean_dct_cycle003 += np.log(np.abs(cv2.dct(np.float32(image))))\n",
    "    \n",
    "mean_dct_cycle003 /= len(filenames_cycle003)\n",
    "\n",
    "# Needs to be repeated for each gan class and applied on corresponding val images!!!!\n",
    "F_p = np.exp(mean_dct_cycle003 - mean_dct_genuine)\n",
    "\n",
    "###### Start ATTACK ######\n",
    "# scale F_p to [0,1]\n",
    "F_p = (F_p - np.min(F_p)) / (np.max(F_p) - np.min(F_p))\n",
    "t=0.1\n",
    "#set values under threshold t to zero\n",
    "F_p[F_p < t] = 0\n",
    "s=100\n",
    "F_p *= s\n",
    "#scale F_p to [0,1]\n",
    "F_p = (F_p - np.min(F_p)) / (np.max(F_p) - np.min(F_p))\n",
    "\n",
    "filenames_cycle003_val = glob.glob('../../data/PLUS/val/spoofed_synthethic_drit_004/*.png')\n",
    "for filename in filenames_cycle003_val[:1]:\n",
    "    image = cv2.imread(filename, cv2.IMREAD_GRAYSCALE)\n",
    "    dct_result = cv2.dct(np.float32(image))\n",
    "    modified_coeffs = dct_result * (1-F_p)\n",
    "    #store the new image in removal folder\n",
    "    reconstructed_image = cv2.idct(modified_coeffs)\n",
    "    print_comparison(image, F_p, reconstructed_image)\n",
    "###### End ATTACK ######"
   ],
   "metadata": {
    "collapsed": false
   },
   "id": "709c7c919db2b6a1"
  },
  {
   "cell_type": "markdown",
   "source": [
    "## Regression Weights Attack"
   ],
   "metadata": {
    "collapsed": false
   },
   "id": "1a2a09d896ad331d"
  },
  {
   "cell_type": "code",
   "execution_count": null,
   "outputs": [],
   "source": [
    "# train a lasso model on genuine dct coeffs\n",
    "import glob\n",
    "import cv2\n",
    "import numpy as np\n",
    "import matplotlib.pyplot as plt\n",
    "from sklearn.linear_model import Lasso\n",
    "\n",
    "filenames_genuine = glob.glob('../../data/PLUS/train/genuine/*.png')\n",
    "filenames_cycle003 = glob.glob('../../data/PLUS/train/spoofed_synthethic_cyclegan_003/*.png')\n",
    "\n",
    "#create mean of dct coeffiecents of filenames_genuine\n",
    "lasso_model = Lasso(alpha=0.1) \n",
    "for filename in filenames_genuine:\n",
    "    for filename_cycle003 in filenames_cycle003:\n",
    "        image_gen = cv2.imread(filename, cv2.IMREAD_GRAYSCALE)\n",
    "        image_gan = cv2.imread(filename_cycle003, cv2.IMREAD_GRAYSCALE)\n",
    "        dct_result_gen = cv2.dct(np.float32(image_gen))\n",
    "        dct_result_gan = cv2.dct(np.float32(image_gan))\n",
    "        lasso_model.fit(dct_result_gan, dct_result_gen)\n",
    "\n",
    "###### Start ATTACK ######        \n",
    "F_r = lasso_model.coef_\n",
    "# scale F_r to [-1,1]\n",
    "F_r = 2 * (F_r - np.min(F_r)) / (np.max(F_r) - np.min(F_r)) - 1\n",
    "filenames_cycle003_val = glob.glob('../../data/PLUS/val/spoofed_synthethic_cyclegan_003/*.png')\n",
    "for filename in filenames_cycle003_val[:1]:\n",
    "    image = cv2.imread(filename, cv2.IMREAD_GRAYSCALE)\n",
    "    dct_result = cv2.dct(np.float32(image))\n",
    "    \n",
    "    modified_coeffs = dct_result * (1-F_r)\n",
    "    #store the new image in removal folder\n",
    "    reconstructed_image = cv2.idct(modified_coeffs)\n",
    "    print_comparison(image, F_r, reconstructed_image)\n",
    "###### End ATTACK ######\n"
   ],
   "metadata": {
    "collapsed": false
   },
   "id": "638c9c9204a0dbf2"
  }
 ],
 "metadata": {
  "kernelspec": {
   "display_name": "Python 3",
   "language": "python",
   "name": "python3"
  },
  "language_info": {
   "codemirror_mode": {
    "name": "ipython",
    "version": 2
   },
   "file_extension": ".py",
   "mimetype": "text/x-python",
   "name": "python",
   "nbconvert_exporter": "python",
   "pygments_lexer": "ipython2",
   "version": "2.7.6"
  }
 },
 "nbformat": 4,
 "nbformat_minor": 5
}
