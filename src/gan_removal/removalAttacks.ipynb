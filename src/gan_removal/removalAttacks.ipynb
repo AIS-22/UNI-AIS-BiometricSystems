{
 "cells": [
  {
   "cell_type": "code",
   "outputs": [],
   "source": [
    "import glob\n",
    "\n",
    "import cv2\n",
    "import matplotlib.pyplot as plt\n",
    "import numpy as np\n",
    "from sklearn.linear_model import Lasso\n",
    "\n",
    "\n",
    "def print_comparison(image, dct_coeffs, reconstructed_image, output_name, gan_image):\n",
    "    dct_orig = np.log(np.abs(cv2.dct(np.float32(image))) + 1)\n",
    "    dct_mod = np.log(np.abs(dct_coeffs) + 1)\n",
    "\n",
    "    plt.figure(figsize=(16, 8))\n",
    "    plt.subplot(2, 2, 1)\n",
    "    plt.imshow(image, cmap='gray')\n",
    "    plt.title(f'Original GAN Image {gan_image}')\n",
    "    \n",
    "    plt.subplot(2, 2, 2)\n",
    "    plt.imshow(dct_orig, cmap='hot')\n",
    "    plt.title('DCT original')\n",
    "    plt.colorbar()\n",
    "    \n",
    "    \n",
    "    plt.subplot(2, 2, 3)\n",
    "    plt.imshow(reconstructed_image, cmap='gray')\n",
    "    plt.title('After Fingerprint Removal')\n",
    "    \n",
    "    plt.subplot(2, 2, 4)\n",
    "    plt.imshow(dct_mod, cmap='hot')\n",
    "    plt.title('DCT of Detected Fingerprint')\n",
    "    plt.colorbar()\n",
    "    \n",
    "    plt.savefig(output_name)\n",
    "    plt.show()"
   ],
   "metadata": {
    "collapsed": false
   },
   "id": "7ec4eda10f419e8c"
  },
  {
   "cell_type": "markdown",
   "source": [
    "## Frequency Bars Attack"
   ],
   "metadata": {
    "collapsed": false
   },
   "id": "8e0ac33b641969fd"
  },
  {
   "cell_type": "code",
   "outputs": [],
   "source": [
    "image = cv2.imread('../../data/PLUS/val/spoofed_synthethic_drit_003/026-PLUS-FV3-Laser_PALMAR_002_01_04_02.png', cv2.IMREAD_GRAYSCALE)\n",
    "filename_comparison = glob.glob('../../data/PLUS/val/spoofed_synthethic_drit_003/026-PLUS-FV3-Laser_PALMAR_002_01_04_02.png')[0]\n",
    "dataset = filename_comparison.split(\"/\")[3]\n",
    "attack = filename_comparison.split(\"/\")[5].split(\"_\")[-2:]\n",
    "attack = \"_\".join(attack)\n",
    "filename_comparison = filename_comparison.split(\"/\")[-1].replace(\".png\", \"\")\n",
    "filename_comparison = \"_\".join([dataset, attack, filename_comparison])\n",
    "\n",
    "###### Start ATTACK ######\n",
    "# Apply 2D DCT\n",
    "dct_result = cv2.dct(np.float32(image))\n",
    "fingerprint = dct_result.copy()\n",
    "#set the last s rows and columns to zero\n",
    "s=60\n",
    "dct_result[-s:,:] = 0\n",
    "dct_result[:,-s:] = 0\n",
    "fingerprint -= dct_result\n",
    "reconstructed_image = cv2.idct(dct_result)\n",
    "###### End ATTACK ######\n",
    "\n",
    "print_comparison(image, fingerprint, reconstructed_image, \"../../plots/GAN_removal/attack_bars_PLUS_drit_003.png\", filename_comparison)"
   ],
   "metadata": {
    "collapsed": false
   },
   "id": "8134b5064ef7b1e2"
  },
  {
   "cell_type": "markdown",
   "source": [
    "## Mean Spectrum Attack"
   ],
   "metadata": {
    "collapsed": false
   },
   "id": "111daf72b6eba919"
  },
  {
   "cell_type": "code",
   "outputs": [],
   "source": [
    "# read filenames in a specified directory\n",
    "filenames_genuine = glob.glob('../../data/PLUS/train/genuine/*.png')\n",
    "filenames_cycle003 = glob.glob('../../data/PLUS/train/spoofed_synthethic_drit_003/*.png')\n",
    "\n",
    "#create mean of dct coeffiecents of filenames_genuine\n",
    "mean_dct_genuine = np.zeros(cv2.imread(filenames_genuine[0], cv2.IMREAD_GRAYSCALE).shape)\n",
    "for filename in filenames_genuine:\n",
    "    image = cv2.imread(filename, cv2.IMREAD_GRAYSCALE)\n",
    "    mean_dct_genuine += cv2.dct(np.float32(image))\n",
    "    \n",
    "mean_dct_genuine /= len(filenames_genuine)\n",
    "\n",
    "#create mean of dct coeffiecents of filenames_cycle003\n",
    "mean_dct_cycle003 = np.zeros(cv2.imread(filenames_cycle003[0], cv2.IMREAD_GRAYSCALE).shape)\n",
    "for filename in filenames_cycle003:\n",
    "    image = cv2.imread(filename, cv2.IMREAD_GRAYSCALE)\n",
    "    mean_dct_cycle003 += cv2.dct(np.float32(image))\n",
    "    \n",
    "mean_dct_cycle003 /= len(filenames_cycle003)\n",
    "\n",
    "# Needs to be repeated for each gan class and applied on corresponding val images!!!!\n",
    "fingerprint_mean = mean_dct_cycle003 - mean_dct_genuine\n",
    "\n",
    "\n",
    "###### Start ATTACK ######\n",
    "s=0.2\n",
    "filename_cycle003_val = glob.glob('../../data/PLUS/val/spoofed_synthethic_drit_003/026-PLUS-FV3-Laser_PALMAR_002_01_04_02.png')[0]\n",
    "image = cv2.imread(filename_cycle003_val, cv2.IMREAD_GRAYSCALE)\n",
    "dct_result = cv2.dct(np.float32(image))\n",
    "modified_coeffs = dct_result - (s*fingerprint_mean)\n",
    "#store the new image in removal folder\n",
    "reconstructed_image = cv2.idct(modified_coeffs)\n",
    "print_comparison(image, fingerprint_mean, reconstructed_image, \"../../plots/GAN_removal/attack_mean_PLUS_drit_003.png\", filename_comparison)\n",
    "###### End ATTACK ######\n"
   ],
   "metadata": {
    "collapsed": false
   },
   "id": "e6aadbde237ed45e"
  },
  {
   "cell_type": "markdown",
   "source": [
    "## Frequency Peaks Attack"
   ],
   "metadata": {
    "collapsed": false
   },
   "id": "47603e8c7965f566"
  },
  {
   "cell_type": "code",
   "outputs": [],
   "source": [
    "# read filenames in a specified directory\n",
    "filenames_genuine = glob.glob('../../data/PLUS/train/genuine/*.png')\n",
    "filenames_cycle003 = glob.glob('../../data/PLUS/train/spoofed_synthethic_drit_003/*.png')\n",
    "\n",
    "#create mean of dct coeffiecents of filenames_genuine\n",
    "mean_dct_genuine = np.zeros(cv2.imread(filenames_genuine[0], cv2.IMREAD_GRAYSCALE).shape)\n",
    "for filename in filenames_genuine:\n",
    "    image = cv2.imread(filename, cv2.IMREAD_GRAYSCALE)\n",
    "    mean_dct_genuine += np.log(np.abs(cv2.dct(np.float32(image))))\n",
    "    \n",
    "mean_dct_genuine /= len(filenames_genuine)\n",
    "\n",
    "#create mean of dct coeffiecents of filenames_cycle003\n",
    "mean_dct_cycle003 = np.zeros(cv2.imread(filenames_cycle003[0], cv2.IMREAD_GRAYSCALE).shape)\n",
    "for filename in filenames_cycle003:\n",
    "    image = cv2.imread(filename, cv2.IMREAD_GRAYSCALE)\n",
    "    mean_dct_cycle003 += np.log(np.abs(cv2.dct(np.float32(image))))\n",
    "    \n",
    "mean_dct_cycle003 /= len(filenames_cycle003)\n",
    "\n",
    "# Needs to be repeated for each gan class and applied on corresponding val images!!!!\n",
    "fingerprint_peak = np.exp(mean_dct_cycle003 - mean_dct_genuine)\n",
    "\n",
    "###### Start ATTACK ######\n",
    "# scale F_p to [0,1]\n",
    "fingerprint_peak = (fingerprint_peak - np.min(fingerprint_peak)) / (np.max(fingerprint_peak) - np.min(fingerprint_peak))\n",
    "t=0.1\n",
    "#set values under threshold t to zero\n",
    "fingerprint_peak[fingerprint_peak < t] = 0\n",
    "s=100\n",
    "fingerprint_peak *= s\n",
    "#scale F_p to [0,1]\n",
    "fingerprint_peak = (fingerprint_peak - np.min(fingerprint_peak)) / (np.max(fingerprint_peak) - np.min(fingerprint_peak))\n",
    "\n",
    "filenames_cycle003_val = glob.glob('../../data/PLUS/val/spoofed_synthethic_drit_003/026-PLUS-FV3-Laser_PALMAR_002_01_04_02.png')[0]\n",
    "image = cv2.imread(filenames_cycle003_val, cv2.IMREAD_GRAYSCALE)\n",
    "dct_result = cv2.dct(np.float32(image))\n",
    "modified_coeffs = dct_result * (1-fingerprint_peak)\n",
    "#store the new image in removal folder\n",
    "reconstructed_image = cv2.idct(modified_coeffs)\n",
    "print_comparison(image, fingerprint_peak, reconstructed_image, \"../../plots/GAN_removal/attack_peaks_PLUS_drit_003.png\", filename_comparison)\n",
    "###### End ATTACK ######"
   ],
   "metadata": {
    "collapsed": false
   },
   "id": "e9353c39c9bff0c0"
  },
  {
   "cell_type": "markdown",
   "source": [
    "## Regression Weights Attack"
   ],
   "metadata": {
    "collapsed": false
   },
   "id": "ecdc831e72317c98"
  },
  {
   "cell_type": "code",
   "outputs": [],
   "source": [
    "# train a lasso model on genuine dct coeffs\n",
    "filenames_genuine = glob.glob('../../data/PLUS/train/genuine/*.png')\n",
    "filenames_cycle003 = glob.glob('../../data/PLUS/train/spoofed_synthethic_drit_003/*.png')\n",
    "\n",
    "#create mean of dct coeffiecents of filenames_genuine\n",
    "lasso_model = Lasso(alpha=0.001 ,max_iter=10, tol=0.1) \n",
    "for filename in filenames_genuine[:1]:\n",
    "    for filename_cycle003 in filenames_cycle003:\n",
    "        print(f\"step: {filename} {filename_cycle003}\")\n",
    "        image_gen = cv2.imread(filename, cv2.IMREAD_GRAYSCALE)\n",
    "        image_gan = cv2.imread(filename_cycle003, cv2.IMREAD_GRAYSCALE)\n",
    "        dct_result_gen = cv2.dct(np.float32(image_gen))\n",
    "        dct_result_gan = cv2.dct(np.float32(image_gan))\n",
    "        lasso_model.fit(dct_result_gan, dct_result_gen)\n",
    "\n",
    "###### Start ATTACK ######        \n",
    "F_r = np.resize(lasso_model.coef_, image_gan.shape)\n",
    "# scale F_r to [-1,1]\n",
    "F_r = 2 * (F_r - np.min(F_r)) / (np.max(F_r) - np.min(F_r)) - 1\n",
    "filenames_cycle003_val = glob.glob('../../data/PLUS/val/spoofed_synthethic_drit_003/026-PLUS-FV3-Laser_PALMAR_002_01_04_02.png')[0]\n",
    "image = cv2.imread(filenames_cycle003_val, cv2.IMREAD_GRAYSCALE)\n",
    "dct_result = cv2.dct(np.float32(image))\n",
    "\n",
    "modified_coeffs = (1-F_r) * dct_result\n",
    "#store the new image in removal folder\n",
    "reconstructed_image = cv2.idct(modified_coeffs)\n",
    "print_comparison(image, F_r, reconstructed_image, \"../../plots/GAN_removal/attack_regression_weights_PLUS_drit_003.png\", filename_comparison)\n",
    "###### End ATTACK ######\n"
   ],
   "metadata": {
    "collapsed": false
   },
   "id": "37f5f1d51deb1aa3"
  }
 ],
 "metadata": {
  "kernelspec": {
   "display_name": "Python 3",
   "language": "python",
   "name": "python3"
  },
  "language_info": {
   "codemirror_mode": {
    "name": "ipython",
    "version": 3
   },
   "file_extension": ".py",
   "mimetype": "text/x-python",
   "name": "python",
   "nbconvert_exporter": "python",
   "pygments_lexer": "ipython3",
   "version": "3.10.9"
  }
 },
 "nbformat": 4,
 "nbformat_minor": 5
}
